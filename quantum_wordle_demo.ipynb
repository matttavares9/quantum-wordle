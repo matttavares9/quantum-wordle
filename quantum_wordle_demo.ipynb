{
 "cells": [
  {
   "cell_type": "markdown",
   "metadata": {},
   "source": [
    "## **Quantum Wordle**\n",
    "Welcome to **Quantum Wordle**, a quantum twist on the classic word-guessing game Wordle!\n",
    "\n",
    "### **1. Introduction**\n",
    "\n",
    "This project combines quantum computing concepts with an engaging and educational game format. Players will attempt to guess a hidden 5-letter word, leveraging various quantum algorithms to search for letters and positions in a quantum state space.\n",
    "\n",
    "**How to play Quantum Worlde:**\n",
    "- A hidden 5-letter word is encoded in a quantum state.\n",
    "\n",
    "- Players input guesses, and the game uses **Grover's Search Algorithm** to evaluate:\n",
    "\n",
    "    1. Correct letters in the *correct* positions. \n",
    "\n",
    "    2. Correct letters in *incorrect* positions.\n",
    "\n",
    "    3. Letters not present in the hidden word.\n",
    "    \n",
    "- Feedback is provided to guide players to the solution through custom **quantum circuits** that generate probabilistic outputs, reflecting the likelihood of correct guesses and leveraging quantum principles for an engaging experience.\n",
    "\n",
    "This implementation demonstrates how quantum algorithms can be applied to practical and fun applications."
   ]
  },
  {
   "cell_type": "markdown",
   "metadata": {},
   "source": [
    "### **2. Quantum Game Mechanics**\n",
    "\n",
    "The excitement of this game lies in the \"quantum twists,\" which show the unpredictability of collapsing qubits and the unique capabilities of quantum computing. Based on the user's guess, different outcomes can occur based on which states are ultimately measured:\n",
    "\n",
    "1. **Correct Letter, Correct Position:**\n",
    "   - ~$50\\%$ chance correct letter is revealed with an *uppercase* letter.\n",
    "   - ~$50\\%$ chance **another** letter in the *hidden word* is revealed with *lowercase* letter and an aesteric to provide the user with the hint.\n",
    "\n",
    "2. **Correct Letter, Wrong Position:**\n",
    "   - ~$50\\%$ chance letter is revealed with a *lowercase* letter.\n",
    "   - ~$25\\%$ chance letter in word is revealed with an *uppercase* letter.\n",
    "   - ~$25\\%$ chance a random letter is revealed with a *lowercase* letter.\n",
    "\n",
    "3. **Incorrect Letter:**\n",
    "   - A random letter of equal probability with a *lowercase* letter.\n",
    "\n",
    "These mechanics create an element of strategy where players must deduce wether feedback is a hint, a random letter, a bonus word or just get lucky by the inherent quantum randomness!\n",
    "\n",
    "#### **2.1 Superposition**\n",
    "Letters are in equal super position with one another. This requires 5 qubits, as $N=2^5$ results 32 possible states, which is the closest we can get to 26 by base 2. Thus, each state has a probability amplitude of $\\frac{1}{32}$. This can be represented by the following notation:\n",
    "$$\n",
    "\\frac{1}{\\sqrt{N}}\\sum_{i=0}^{N-1}|i\\rangle = \\frac{1}{\\sqrt{32}}(|00000\\rangle + |00001\\rangle + |00010\\rangle + ... |11011\\rangle + ... |11111\\rangle)\n",
    "$$\n",
    "\n",
    "Where each state is in order alphabetically: $A = |00000\\rangle$,  $B = |00001\\rangle $, $C = |00100\\rangle $ and $Z = |11011\\rangle $\n",
    "\n",
    "#### **2.2 Controlled-Y Rotations**\n",
    "\n",
    "\n",
    "The Controlled-Y Gate $CRY$ rotates the phase of the qubit to **amplify** the probability of measuring this state, **only** if the *control* qubit is $|1\\rangle$. This is represented by the following gate, which transforms the computational basis state:\n",
    "\n",
    "$$\n",
    "CRY = \n",
    "\\begin{bmatrix}\n",
    " 1& 0& 0& 0  \\\\\n",
    " 0& cos\\phi &0  & -sin \\\\\n",
    " 0& 0 &  1& 0 \\\\\n",
    " 0& sin\\phi &0  & cos\\phi\n",
    "\\end{bmatrix}\n",
    "$$\n",
    "\n",
    "Where each column of the matrix represents the **input** state and the corresponding rows show the **output** transformation state. For a two qubit system, each in superposition: $$\\frac{1}{\\sqrt{2}}(|0\\rangle +|1\\rangle)\\otimes_{}^{}\\frac{1}{\\sqrt{2}}(|0\\rangle +|1\\rangle)=\\frac{1}{2}(|00\\rangle+|01\\rangle+|10\\rangle+|11\\rangle) $$\n",
    "\n",
    "##### **2.21. CRY Gates for Correct Letter, Correct Position:**\n",
    "This two qubit set up will be used to demonstrate the theory behind how the \"Correct Letter, Correct Position\" is revealed. Our goal is to **maximize** the $|11\\rangle$ state:\n",
    "\n",
    "After applying the $CRY$ gate, this state becomes:\n",
    "$$\\frac{1}{2}(|00\\rangle + [ cos\\phi|01\\rangle) +sin\\phi|11\\rangle] +|10\\rangle + [ -sin\\phi|01\\rangle) +cos\\phi|11\\rangle])$$\n",
    "\n",
    "Where $\\phi=\\frac{\\theta}{2}$. Next, set $\\theta=\\frac{\\pi}{2}$:\n",
    "$$\\frac{1}{2}(|00\\rangle + \\frac{\\sqrt{2}}{2}|01\\rangle+\\frac{\\sqrt{2}}{2}|11\\rangle+|10\\rangle-\\frac{\\sqrt{2}}{2}|01\\rangle + \\frac{\\sqrt{2}}{2}|11\\rangle)$$\n",
    "\n",
    "This simplifies the state by eliminating the $|01\\rangle$, resulting in:\n",
    "$$\\frac{1}{2}(|00\\rangle+\\sqrt{2}|11\\rangle + |10\\rangle)$$\n",
    "To measure the probabilities of each state, we must calculate the square of the absolute value of the amplitudes.\n",
    "Thus, the probability of measuring the $|11\\rangle$ state is $\\frac{1}{2}$, measuring the $|00\\rangle$ state is $\\frac{1}{4}$, and measuring the $|10\\rangle$ state is $\\frac{1}{4}$.\n",
    "In conclusion, if we map the $|11\\rangle$ state to the letter gussed by the player, the chances are ~$50\\%$, while mapping the remaining states to another letter in the hidden word, the chances cumulate to ~$50\\%$. \n",
    "\n",
    "\n",
    "\n",
    "##### **2.22 CRY Gates for Correct Letter, Wrong Position:**\n",
    "The goal of maximizing the $|11\\rangle$ state remains the same, except we need a wider range of probabilities. The theory is that the $|11\\rangle$ state will be mapped to the guessed letter, while the remaining states will be a selective cumulation of another letter in the hidden word and a random letter.\n",
    "\n",
    "Starting with the state after applying the $CRY$ gate:\n",
    "$$\\frac{1}{2}(|00\\rangle + [ cos\\phi|01\\rangle) +sin\\phi|11\\rangle] +|10\\rangle + [ -sin\\phi|01\\rangle) +cos\\phi|11\\rangle])$$\n",
    "\n",
    "Set $\\theta=\\frac{2\\pi}{3}$:\n",
    "$$\\frac{1}{2}(|00\\rangle+\\frac{1}2{}|01\\rangle +\\frac{\\sqrt{3}}2{}|11\\rangle +|10\\rangle-\\frac{\\sqrt{3}}{2}|01\\rangle+\\frac{1}{2}|11\\rangle)$$\n",
    "And simplify:\n",
    "$$\\frac{1}{2}(|00\\rangle + \\frac{1-\\sqrt{3}}{2}|01\\rangle + |10\\rangle +\\frac{\\sqrt{3}+1}{2}|11\\rangle)$$\n",
    "\n",
    "Thus, the probability of measuring the $|11\\rangle$ state is $\\frac{2+\\sqrt{3}}{8}$, measuring the $|00\\rangle$ state is $\\frac{1}{4}$, measuring the $|10\\rangle$ state is $\\frac{1}{4}$, and measuring the $|01\\rangle$ state is $\\frac{2-\\sqrt{3}}{8}$\n",
    "Finally, if we map the $|11\\rangle$ state to the letter gussed by the player, the chances are just under $50\\%$, mapping the $|00\\rangle$ state to a letter in the word is ~$25\\%$,  and mapping the $|01\\rangle$ and $|10\\rangle$ states to a random letter is just over $25\\%$.\n",
    "\n",
    "##### **2.23 Incorrect Letter:**\n",
    "**No** $CRY$ gates are needed as a random letter of the alphabet will be revealed. Therefore, measuring state $\\frac{1}{\\sqrt{32}}(|00000\\rangle + |00001\\rangle + |00010\\rangle + ... |11111\\rangle)$ results in an equal $\\frac{1}{32}$ probability of measuring each letter. As you may have noticed, there are more qubits than letters. For each extra qubit, a random letter will be mapped to it.\n",
    "\n",
    "\n"
   ]
  },
  {
   "cell_type": "markdown",
   "metadata": {},
   "source": [
    "#### **2.3 Quantum Circuit Construction**\n",
    "\n",
    "The system requires 5 qubits, each in superposition, for $2^5=32$ possible states. Therefore, a Hadamard gate is applied to all qubits:\n",
    "\n"
   ]
  },
  {
   "cell_type": "code",
   "execution_count": 22,
   "metadata": {},
   "outputs": [
    {
     "data": {
      "text/html": [
       "<pre style=\"word-wrap: normal;white-space: pre;background: #fff0;line-height: 1.1;font-family: &quot;Courier New&quot;,Courier,monospace\">     ┌───┐\n",
       "q_0: ┤ H ├\n",
       "     ├───┤\n",
       "q_1: ┤ H ├\n",
       "     ├───┤\n",
       "q_2: ┤ H ├\n",
       "     ├───┤\n",
       "q_3: ┤ H ├\n",
       "     ├───┤\n",
       "q_4: ┤ H ├\n",
       "     └───┘</pre>"
      ],
      "text/plain": [
       "     ┌───┐\n",
       "q_0: ┤ H ├\n",
       "     ├───┤\n",
       "q_1: ┤ H ├\n",
       "     ├───┤\n",
       "q_2: ┤ H ├\n",
       "     ├───┤\n",
       "q_3: ┤ H ├\n",
       "     ├───┤\n",
       "q_4: ┤ H ├\n",
       "     └───┘"
      ]
     },
     "execution_count": 22,
     "metadata": {},
     "output_type": "execute_result"
    }
   ],
   "source": [
    "import math\n",
    "from qiskit import QuantumCircuit\n",
    "from qiskit_aer.primitives import SamplerV2\n",
    "\n",
    "circ = QuantumCircuit(5)\n",
    "circ.h([0, 1, 2, 3, 4])\n",
    "circ.draw()"
   ]
  },
  {
   "cell_type": "markdown",
   "metadata": {},
   "source": [
    "Next, we will apply the CRY gates on the qubits. Variable $theta$ may be adjusted depending on what is to be revealed.\n"
   ]
  },
  {
   "cell_type": "code",
   "execution_count": 24,
   "metadata": {},
   "outputs": [
    {
     "data": {
      "text/html": [
       "<pre style=\"word-wrap: normal;white-space: pre;background: #fff0;line-height: 1.1;font-family: &quot;Courier New&quot;,Courier,monospace\">     ┌───┐                                            \n",
       "q_0: ┤ H ├─────■──────────────────────────────────────\n",
       "     ├───┤┌────┴────┐                                 \n",
       "q_1: ┤ H ├┤ Ry(π/2) ├─────■───────────────────────────\n",
       "     ├───┤└─────────┘┌────┴────┐                      \n",
       "q_2: ┤ H ├───────────┤ Ry(π/2) ├─────■────────────────\n",
       "     ├───┤           └─────────┘┌────┴────┐           \n",
       "q_3: ┤ H ├──────────────────────┤ Ry(π/2) ├─────■─────\n",
       "     ├───┤                      └─────────┘┌────┴────┐\n",
       "q_4: ┤ H ├─────────────────────────────────┤ Ry(π/2) ├\n",
       "     └───┘                                 └─────────┘</pre>"
      ],
      "text/plain": [
       "     ┌───┐                                            \n",
       "q_0: ┤ H ├─────■──────────────────────────────────────\n",
       "     ├───┤┌────┴────┐                                 \n",
       "q_1: ┤ H ├┤ Ry(π/2) ├─────■───────────────────────────\n",
       "     ├───┤└─────────┘┌────┴────┐                      \n",
       "q_2: ┤ H ├───────────┤ Ry(π/2) ├─────■────────────────\n",
       "     ├───┤           └─────────┘┌────┴────┐           \n",
       "q_3: ┤ H ├──────────────────────┤ Ry(π/2) ├─────■─────\n",
       "     ├───┤                      └─────────┘┌────┴────┐\n",
       "q_4: ┤ H ├─────────────────────────────────┤ Ry(π/2) ├\n",
       "     └───┘                                 └─────────┘"
      ]
     },
     "execution_count": 24,
     "metadata": {},
     "output_type": "execute_result"
    }
   ],
   "source": [
    "# Angle for correct letter, correct position\n",
    "theta = math.pi/2\n",
    "\n",
    "# If qubit 0 is in state 1, then it rotates the state\n",
    "circ.cry(theta,[0],[1])\n",
    "circ.cry(theta,[1],[2])\n",
    "circ.cry(theta,[2],[3])\n",
    "circ.cry(theta,[3],[4])\n",
    "circ.draw()"
   ]
  },
  {
   "cell_type": "markdown",
   "metadata": {},
   "source": [
    "Finally, measure the state and simulate it on Qiskit's Sampler. In this example, the simulation is run *100* times to show the probability distribution of each state."
   ]
  },
  {
   "cell_type": "code",
   "execution_count": 29,
   "metadata": {},
   "outputs": [
    {
     "name": "stdout",
     "output_type": "stream",
     "text": [
      "{'11111': 59, '11110': 19, '11100': 14, '11000': 5, '00000': 2, '10000': 1}\n"
     ]
    }
   ],
   "source": [
    "# Measure all 5 qubits\n",
    "circ.measure_all()\n",
    "\n",
    "# Run on simulator\n",
    "sampler = SamplerV2()\n",
    "job = sampler.run([circ], shots=100)\n",
    "result_ideal = job.result()\n",
    "counts_ideal = result_ideal[0].data.meas.get_counts()\n",
    "\n",
    "# Sort the counts\n",
    "sorted_counts = dict(sorted(counts_ideal.items(), key=lambda item: item[1], reverse=True))\n",
    "print(sorted_counts)"
   ]
  },
  {
   "cell_type": "markdown",
   "metadata": {},
   "source": [
    "### **3. Grover's Search Algorithm**\n",
    "Grover's algorithm is one of the most fundamental quantum algorithms that demonstrates the advantage quantum computers have over classical computers. Grover's search provides a **quadratic speedup** for searching for an item in an unstructured database. In *Quantum Wordle*, this is leveraged to find the **correct position** of a each letter in a guess, where the solution space is a superposition of all letters in the *hidden word*. \n",
    "\n",
    "The result **achieves** a theoretical speedup, reducing the complexity from the classical Wordle search $O(N^2)$ to $O(\\sqrt{N}\\cdot N)$.\n",
    "\n",
    "To learn more about Grover's search, I recommend reading the notes I took in *\"proofs\"* or Qiskit's documentation here:\n",
    "https://github.com/Qiskit/textbook/blob/main/notebooks/ch-algorithms/grover.ipynb.\n",
    "\n"
   ]
  },
  {
   "cell_type": "markdown",
   "metadata": {},
   "source": [
    "#### **3.1 Superposition of States**\n",
    "\n",
    "This step ensures that the quantum system explores all possible states simultaneously.\n",
    "\n",
    "The *hidden word* has 5 letters, meaning we need atleast 5 possible states. A quantum circuit is created with $N + 1$ qubits, where $N=2$ represents the qubits in superposition, and an additional **ancilla** qubit to help. A Hadamard gate is applied to the first two qubits to create the superposition of $2^2=4$ possible states, while the ancilla qubit is left only in state $|0\\rangle$.\n",
    "\n"
   ]
  },
  {
   "cell_type": "code",
   "execution_count": 64,
   "metadata": {},
   "outputs": [
    {
     "data": {
      "text/html": [
       "<pre style=\"word-wrap: normal;white-space: pre;background: #fff0;line-height: 1.1;font-family: &quot;Courier New&quot;,Courier,monospace\">     ┌───┐\n",
       "q_0: ┤ H ├\n",
       "     ├───┤\n",
       "q_1: ┤ H ├\n",
       "     └───┘\n",
       "q_2: ─────\n",
       "          </pre>"
      ],
      "text/plain": [
       "     ┌───┐\n",
       "q_0: ┤ H ├\n",
       "     ├───┤\n",
       "q_1: ┤ H ├\n",
       "     └───┘\n",
       "q_2: ─────\n",
       "          "
      ]
     },
     "execution_count": 64,
     "metadata": {},
     "output_type": "execute_result"
    }
   ],
   "source": [
    "from qiskit import QuantumCircuit\n",
    "\n",
    "N = 2\n",
    "circuit = QuantumCircuit(N+1) # 2^2 + 1 = 5 (2 in superposition and 1 ancilla)\n",
    "circuit.h([0,1])\n",
    "circuit.draw()"
   ]
  },
  {
   "cell_type": "markdown",
   "metadata": {},
   "source": [
    "#### **3.2 Oracle Function**\n",
    "\n",
    "The Oracle marks which item to search for in the database as the *winning state*, $|w\\rangle$. This state is encoded as a guessed letter (Ex. $|111\\rangle \\to \"S\" $). \n",
    "\n",
    "The Oracle marks the *winning state* by flipping its phase ($|w\\rangle$ to $-|w\\rangle$). This is done by applying controlled $Z$ gates to flip the phase if the *control* qubit is in state $|1\\rangle$. $X$ gates are applied after to flip the qubits to the proper *winning state*."
   ]
  },
  {
   "cell_type": "code",
   "execution_count": 65,
   "metadata": {},
   "outputs": [
    {
     "data": {
      "text/html": [
       "<pre style=\"word-wrap: normal;white-space: pre;background: #fff0;line-height: 1.1;font-family: &quot;Courier New&quot;,Courier,monospace\">     ┌───┐   ┌───┐\n",
       "q_0: ┤ H ├─■─┤ X ├\n",
       "     ├───┤ │ ├───┤\n",
       "q_1: ┤ H ├─■─┤ X ├\n",
       "     └───┘   └───┘\n",
       "q_2: ─────────────\n",
       "                  </pre>"
      ],
      "text/plain": [
       "     ┌───┐   ┌───┐\n",
       "q_0: ┤ H ├─■─┤ X ├\n",
       "     ├───┤ │ ├───┤\n",
       "q_1: ┤ H ├─■─┤ X ├\n",
       "     └───┘   └───┘\n",
       "q_2: ─────────────\n",
       "                  "
      ]
     },
     "execution_count": 65,
     "metadata": {},
     "output_type": "execute_result"
    }
   ],
   "source": [
    "# Example guess\n",
    "guess = 'STARE'\n",
    "\n",
    "# Encode letter to qubit\n",
    "word_solution_space = {\n",
    "    guess[0]:'000',\n",
    "    guess[1]:'001',\n",
    "    guess[2]:'010',\n",
    "    guess[3]:'011',\n",
    "    guess[4]:'111'\n",
    "}\n",
    "\n",
    "def oracle(letter):\n",
    "    flag = word_solution_space.get(letter) \n",
    "\n",
    "    if flag == '000':\n",
    "        circuit.cz(0, 1)\n",
    "        circuit.x([0,1]) # |000> / S\n",
    "    elif flag == '001':\n",
    "        circuit.cz(0, 1)\n",
    "        circuit.x([1]) # |001> / T\n",
    "    elif flag == '010':\n",
    "        circuit.cz(0, 1)\n",
    "        circuit.x([0]) # |010> / A\n",
    "    elif flag == '011': \n",
    "        circuit.cz(0, 1) # |011> / R\n",
    "    elif flag == '111':\n",
    "        circuit.cz(0, 1)\n",
    "        circuit.x(2) # |111> / E\n",
    "\n",
    "oracle('S') # Ex. Search for letter 'S'\n",
    "circuit.draw()"
   ]
  },
  {
   "cell_type": "markdown",
   "metadata": {},
   "source": [
    "#### **3.3 Diffuser Function**\n",
    "\n",
    "The Diffuser increases the probability of the state collapsing to the *winning state*.\n",
    "\n",
    "This is done by amplifying the probability amplitude of the marked state, $|w\\rangle$. It performs a **reflection** about the mean of all states, effectively steering the system toward the marked state $|w\\rangle$. \n",
    "Consider the current state as $|\\psi\\rangle$ (step **3.2**) and state $|s\\rangle$ as all states in equal superposition (step **3.1**). The goal is to flip state $|\\psi\\rangle$ **about** state $|s\\rangle$, which directly increases the amplitude of the marked state $|w\\rangle$ component in $|\\psi\\rangle$. The unitary operation for reflecting about it's mean is $2|s\\rangle\\langle s| - I$. \n",
    "\n",
    "This operation is applied to the current state $|\\psi\\rangle$ by:"
   ]
  },
  {
   "cell_type": "code",
   "execution_count": 66,
   "metadata": {},
   "outputs": [
    {
     "data": {
      "text/html": [
       "<pre style=\"word-wrap: normal;white-space: pre;background: #fff0;line-height: 1.1;font-family: &quot;Courier New&quot;,Courier,monospace\">     ┌───┐   ┌───┐┌───┐┌───┐   ┌───┐\n",
       "q_0: ┤ H ├─■─┤ X ├┤ H ├┤ Z ├─■─┤ H ├\n",
       "     ├───┤ │ ├───┤├───┤├───┤ │ ├───┤\n",
       "q_1: ┤ H ├─■─┤ X ├┤ H ├┤ Z ├─■─┤ H ├\n",
       "     └───┘   └───┘└───┘└───┘   └───┘\n",
       "q_2: ───────────────────────────────\n",
       "                                    </pre>"
      ],
      "text/plain": [
       "     ┌───┐   ┌───┐┌───┐┌───┐   ┌───┐\n",
       "q_0: ┤ H ├─■─┤ X ├┤ H ├┤ Z ├─■─┤ H ├\n",
       "     ├───┤ │ ├───┤├───┤├───┤ │ ├───┤\n",
       "q_1: ┤ H ├─■─┤ X ├┤ H ├┤ Z ├─■─┤ H ├\n",
       "     └───┘   └───┘└───┘└───┘   └───┘\n",
       "q_2: ───────────────────────────────\n",
       "                                    "
      ]
     },
     "execution_count": 66,
     "metadata": {},
     "output_type": "execute_result"
    }
   ],
   "source": [
    "def diffuser():\n",
    "    circuit.h([0, 1])\n",
    "    circuit.z([0,1])\n",
    "    circuit.cz(0, 1)\n",
    "    circuit.h([0,1])\n",
    "\n",
    "diffuser()\n",
    "circuit.draw()"
   ]
  },
  {
   "cell_type": "markdown",
   "metadata": {},
   "source": [
    "#### **3.4 Grover Iterator and Measurement**\n",
    "\n",
    "Each Grover Iterator repeats the **Oracle** and **Diffuser** $t = \\left\\lfloor \\frac{\\pi}{4}\\sqrt{N} \\right\\rfloor$ times.  In this case, $N = 2$, so $t=\\left\\lfloor \\frac{\\pi}{4}\\sqrt{2} \\right\\rfloor = 1$ iteration needed. \n",
    "\n",
    "This means the marked state will be meaured after applying the Oracle and Diffuser one time."
   ]
  },
  {
   "cell_type": "code",
   "execution_count": 70,
   "metadata": {},
   "outputs": [
    {
     "name": "stdout",
     "output_type": "stream",
     "text": [
      "['000']\n",
      "['001']\n",
      "['010']\n",
      "['011']\n",
      "['111']\n"
     ]
    }
   ],
   "source": [
    "circuit = QuantumCircuit(N+1)\n",
    "circuit.h([0,1])\n",
    "    \n",
    "\n",
    "def measure():\n",
    "    circuit.measure_all()\n",
    "\n",
    "    # Simulate\n",
    "    sampler = SamplerV2()\n",
    "    job = sampler.run([circuit], shots=200)\n",
    "    result_ideal = job.result()\n",
    "    counts_ideal = result_ideal[0].data.meas.get_counts()\n",
    "    \n",
    "    # Print measured states\n",
    "    sorted_counts = dict(sorted(counts_ideal.items(), key=lambda item: item[1], reverse=True))\n",
    "    result = list(sorted_counts.keys())\n",
    "    print(result)\n",
    "\n",
    "# Only needs to repeat grover's search one time, as 1/pi * sqrt(2) < 1 and diffuser will reflect the state to the winning state\n",
    "# Time complexity O(√N*N) rather than O(N^2)\n",
    "grover_iterations = ( math.pi / 4 ) * ( math.sqrt(N) )\n",
    "for n in range(len(guess)): # N iterations\n",
    "    letter = guess[n]\n",
    "    for t in range(math.floor(grover_iterations)): # √N iterations\n",
    "        oracle(letter)\n",
    "        diffuser()\n",
    "    measure()\n",
    "    # Reset circuit for next iteration\n",
    "    circuit = QuantumCircuit(N+1)\n",
    "    circuit.h([0,1])"
   ]
  },
  {
   "cell_type": "markdown",
   "metadata": {},
   "source": [
    "Therefore, the state returned represents the **qubit positional state** encoding of each letter in the guess, and is then compared to see if the letter is in the correct position. \n",
    "\n",
    "For each letter in the guess, it is *compared* to each letter in the hidden word $\\sqrt{N}$ times. In classical World, each letter in the guess would be compared to **every** letter in the hidden word ${N}$ times. Thus, the theoretical speed up achieved for **each** letter in the guess is $O(\\sqrt{N}\\cdot N)$ beating classical Wordle's $O(N^2)$."
   ]
  },
  {
   "cell_type": "markdown",
   "metadata": {},
   "source": [
    "### **4. Conclusion**\n",
    "In this project, I’ve successfully implemented a quantum version of Wordle, demonstrating how quantum computing can enhance classical game mechanics. By leveraging quantum principles such as **superposition** and **controlled gates**, along with **Grover's search algorithm**, I was able to explore potential speedups and unique gameplay enhancements over traditional methods.\n",
    "\n",
    "This project provided a valuable opportunity to apply quantum computing techniques in a practical, familiar context, and helped deepen my understanding of quantum algorithms and their real-world applications.\n",
    "\n",
    "Looking forward, there are several potential improvements that could further optimize the game, such as adding interactive UI, exploring different quantum algorithms, or extending the implementation to handle larger word sizes. Nonetheless, this project serves as a solid foundation for future work in quantum gaming and quantum algorithm development."
   ]
  }
 ],
 "metadata": {
  "kernelspec": {
   "display_name": "Python 3",
   "language": "python",
   "name": "python3"
  },
  "language_info": {
   "codemirror_mode": {
    "name": "ipython",
    "version": 3
   },
   "file_extension": ".py",
   "mimetype": "text/x-python",
   "name": "python",
   "nbconvert_exporter": "python",
   "pygments_lexer": "ipython3",
   "version": "3.12.2"
  }
 },
 "nbformat": 4,
 "nbformat_minor": 2
}
